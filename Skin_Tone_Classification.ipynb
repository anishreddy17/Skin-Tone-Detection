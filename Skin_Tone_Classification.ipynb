{
 "cells": [
  {
   "cell_type": "code",
   "execution_count": null,
   "id": "1a86026a",
   "metadata": {},
   "outputs": [],
   "source": [
    "import os\n",
    "import cv2\n",
    "import dlib\n",
    "import numpy as np\n",
    "import matplotlib.pyplot as plt\n",
    "from sklearn.cluster import KMeans\n",
    "from scipy.spatial.distance import cdist"
   ]
  },
  {
   "cell_type": "code",
   "execution_count": null,
   "id": "246b2cbd",
   "metadata": {},
   "outputs": [],
   "source": [
    "# Configuration(Importing Model Paths)\n",
    "image_path = r\"C:\\Users\\anish\\OneDrive\\Desktop\\light_vishal.webp\" #Update path to your image\n",
    "predictor_path = r\"C:\\Users\\anish\\OneDrive\\Desktop\\floos\\shape_predictor_68_face_landmarks.dat\" #Update path to the face prediction landmarks"
   ]
  },
  {
   "cell_type": "code",
   "execution_count": null,
   "id": "4c815279",
   "metadata": {},
   "outputs": [],
   "source": [
    "# Validate file paths \n",
    "if not os.path.isfile(image_path):\n",
    "    print(\"❌ Image file not found.\")\n",
    "    exit()\n",
    "\n",
    "if not os.path.isfile(predictor_path):\n",
    "    print(\"❌ Shape predictor file not found.\")\n",
    "    exit()"
   ]
  },
  {
   "cell_type": "code",
   "execution_count": null,
   "id": "efee8985",
   "metadata": {},
   "outputs": [],
   "source": [
    "# Load models(Dlib)\n",
    "detector = dlib.get_frontal_face_detector()\n",
    "predictor = dlib.shape_predictor(predictor_path)"
   ]
  },
  {
   "cell_type": "code",
   "execution_count": null,
   "id": "34102f8e",
   "metadata": {},
   "outputs": [],
   "source": [
    "# Read image and detect face \n",
    "image = cv2.imread(image_path)\n",
    "if image is None:\n",
    "    print(\"❌ Could not read the image file.\")\n",
    "    exit()\n",
    "\n",
    "gray = cv2.cvtColor(image, cv2.COLOR_BGR2GRAY)\n",
    "faces = detector(gray)\n",
    "\n",
    "if len(faces) == 0:\n",
    "    print(\"❌ No face detected.\")\n",
    "    exit()\n",
    "\n",
    "face = faces[0]\n",
    "x, y, w, h = face.left(), face.top(), face.width(), face.height()\n",
    "face_crop = image[y:y+h, x:x+w]\n",
    "face_copy = face_crop.copy()\n",
    "landmarks = predictor(gray, face)"
   ]
  },
  {
   "cell_type": "code",
   "execution_count": null,
   "id": "f46bc5f4",
   "metadata": {},
   "outputs": [],
   "source": [
    "#  Mask eyes, lips, eyebrows \n",
    "def mask_features(indices_list):\n",
    "    for indices in indices_list:\n",
    "        pts = np.array([(landmarks.part(i).x - x, landmarks.part(i).y - y) for i in indices], dtype=np.int32)\n",
    "        cv2.fillPoly(face_copy, [pts], (0, 0, 0))\n",
    "\n",
    "regions_to_mask = [\n",
    "    range(36, 42),  # Left eye\n",
    "    range(42, 48),  # Right eye\n",
    "    range(48, 61),  # Lips\n",
    "    range(17, 22),  # Left eyebrow\n",
    "    range(22, 27)   # Right eyebrow\n",
    "]\n",
    "\n",
    "mask_features(regions_to_mask)"
   ]
  },
  {
   "cell_type": "code",
   "execution_count": null,
   "id": "8a2bec25",
   "metadata": {},
   "outputs": [],
   "source": [
    "# Extract skin region \n",
    "rgb_image = cv2.cvtColor(face_copy, cv2.COLOR_BGR2RGB)\n",
    "skin_mask = np.all(rgb_image != [0, 0, 0], axis=-1)\n",
    "\n",
    "lab_image = cv2.cvtColor(rgb_image, cv2.COLOR_RGB2LAB)\n",
    "pixels = lab_image.reshape(-1, 3)[skin_mask.flatten()]"
   ]
  },
  {
   "cell_type": "code",
   "execution_count": null,
   "id": "f608da6f",
   "metadata": {},
   "outputs": [],
   "source": [
    "# KMeans clustering on LAB pixels \n",
    "kmeans = KMeans(n_clusters=8, random_state=42)\n",
    "labels = kmeans.fit_predict(pixels)\n",
    "centroids = kmeans.cluster_centers_"
   ]
  },
  {
   "cell_type": "code",
   "execution_count": null,
   "id": "2a690f48",
   "metadata": {},
   "outputs": [],
   "source": [
    "# Compare with reference skin tone LAB values \n",
    "reference = {\n",
    "    \"Light\": [85, 0, 15],\n",
    "    \"Medium\": [65, 10, 20],\n",
    "    \"Dark\": [35, 15, 30]\n",
    "}\n",
    "ref_values = np.array(list(reference.values()))\n",
    "label_to_tone = {}\n",
    "\n",
    "for idx, center in enumerate(centroids):\n",
    "    distances = cdist([center], ref_values, 'euclidean')\n",
    "    closest = np.argmin(distances)\n",
    "    label_to_tone[idx] = list(reference.keys())[closest]\n",
    "\n",
    "dominant_label = np.bincount(labels).argmax()\n",
    "skin_tone = label_to_tone[dominant_label]"
   ]
  },
  {
   "cell_type": "code",
   "execution_count": null,
   "id": "3cc6f966",
   "metadata": {},
   "outputs": [],
   "source": [
    "# Ask user for undertone \n",
    "undertone = input(\"Enter your undertone (Warm / Cool): \").strip().lower()\n",
    "while undertone not in ['warm', 'cool']:\n",
    "    undertone = input(\"Please type 'Warm' or 'Cool': \").strip().lower()\n",
    "\n",
    "undertone_label = \"Warm\" if undertone == \"warm\" else \"Cool\"\n",
    "final_classification = f\"{skin_tone}-{undertone_label}\" "
   ]
  },
  {
   "cell_type": "code",
   "execution_count": null,
   "id": "786e8e41",
   "metadata": {},
   "outputs": [],
   "source": [
    "# === Output ===\n",
    "print(\"\\n Dominant Skin Tone:\", skin_tone)\n",
    "print(\"  Undertone:\", undertone_label)\n",
    "print(\" Final Classification:\", final_classification)"
   ]
  },
  {
   "cell_type": "code",
   "execution_count": null,
   "id": "384e7d35",
   "metadata": {},
   "outputs": [],
   "source": [
    "# === Visualization ===\n",
    "visual = np.zeros((skin_mask.shape[0], skin_mask.shape[1], 3), dtype=np.uint8)\n",
    "colors = (plt.cm.jet(np.linspace(0, 1, 8))[:, :3] * 255).astype(np.uint8)\n",
    "label_idx = 0\n",
    "\n",
    "for i in range(skin_mask.shape[0]):\n",
    "    for j in range(skin_mask.shape[1]):\n",
    "        if skin_mask[i, j]:\n",
    "            visual[i, j] = colors[labels[label_idx]]\n",
    "            label_idx += 1\n",
    "\n",
    "plt.figure(figsize=(10, 5))\n",
    "\n",
    "plt.subplot(1, 2, 1)\n",
    "plt.imshow(rgb_image)\n",
    "plt.title(\"Masked Face\")\n",
    "plt.axis('off')\n",
    "\n",
    "plt.subplot(1, 2, 2)\n",
    "plt.imshow(visual)\n",
    "plt.title(f\"{skin_tone} - {undertone_label}\")\n",
    "plt.axis('off')\n",
    "\n",
    "plt.tight_layout()\n",
    "plt.show()"
   ]
  }
 ],
 "metadata": {},
 "nbformat": 4,
 "nbformat_minor": 5
}
